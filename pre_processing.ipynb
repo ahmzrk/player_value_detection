{
 "cells": [
  {
   "cell_type": "code",
   "execution_count": 1,
   "metadata": {},
   "outputs": [],
   "source": [
    "import pandas as pd\n",
    "from sklearn.model_selection import train_test_split\n",
    "from sklearn.linear_model import LinearRegression,Ridge\n",
    "from sklearn.metrics import mean_squared_error, r2_score\n",
    "from sklearn.model_selection import cross_val_score,KFold\n",
    "import matplotlib.pyplot as plt\n",
    "import numpy as np"
   ]
  },
  {
   "cell_type": "code",
   "execution_count": 2,
   "metadata": {},
   "outputs": [],
   "source": [
    "df = df_ = pd.read_csv(filepath_or_buffer=\"C:\\\\Lib\\\\fifa_players.csv\")\n",
    "df = df_.copy()"
   ]
  },
  {
   "cell_type": "code",
   "execution_count": 3,
   "metadata": {},
   "outputs": [
    {
     "name": "stderr",
     "output_type": "stream",
     "text": [
      "C:\\Users\\redoe\\AppData\\Local\\Temp\\ipykernel_19944\\114752533.py:8: FutureWarning: Downcasting object dtype arrays on .fillna, .ffill, .bfill is deprecated and will change in a future version. Call result.infer_objects(copy=False) instead. To opt-in to the future behavior, set `pd.set_option('future.no_silent_downcasting', True)`\n",
      "  df[column] = temp_series.fillna(-1).astype('int64')\n",
      "C:\\Users\\redoe\\AppData\\Local\\Temp\\ipykernel_19944\\114752533.py:8: FutureWarning: Downcasting object dtype arrays on .fillna, .ffill, .bfill is deprecated and will change in a future version. Call result.infer_objects(copy=False) instead. To opt-in to the future behavior, set `pd.set_option('future.no_silent_downcasting', True)`\n",
      "  df[column] = temp_series.fillna(-1).astype('int64')\n"
     ]
    }
   ],
   "source": [
    "df = df.drop(columns=['full_name','name','birth_date','nationality'])\n",
    "categorical_to_nums = {'preferred_foot'  :   {'Left'  : 0, 'Right' : 1,},\n",
    "                       'body_type'  :   {'Lean'  : 0, 'Normal' : 1, 'Stocky' : 2}} \n",
    "for column, mapping in categorical_to_nums.items():\n",
    "    temp_series = df[column].copy()\n",
    "    null_mask = temp_series.isnull()\n",
    "    temp_series.loc[~null_mask] = temp_series.loc[~null_mask].map(mapping) \n",
    "    df[column] = temp_series.fillna(-1).astype('int64')"
   ]
  },
  {
   "cell_type": "code",
   "execution_count": 4,
   "metadata": {},
   "outputs": [
    {
     "data": {
      "text/plain": [
       "890"
      ]
     },
     "execution_count": 4,
     "metadata": {},
     "output_type": "execute_result"
    }
   ],
   "source": [
    "df['positions'].nunique()"
   ]
  },
  {
   "cell_type": "code",
   "execution_count": 5,
   "metadata": {},
   "outputs": [
    {
     "data": {
      "text/plain": [
       "15"
      ]
     },
     "execution_count": 5,
     "metadata": {},
     "output_type": "execute_result"
    }
   ],
   "source": [
    "df['positions'] = df['positions'].str.split(',').str[0]\n",
    "df['positions'].nunique()"
   ]
  },
  {
   "cell_type": "code",
   "execution_count": 6,
   "metadata": {},
   "outputs": [],
   "source": [
    "for column in ['height_cm','value_euro','wage_euro','release_clause_euro' ]:   \n",
    "    df[column] = df.groupby('positions')[column].transform(lambda x: x.fillna(x.median()))"
   ]
  },
  {
   "cell_type": "code",
   "execution_count": 7,
   "metadata": {},
   "outputs": [],
   "source": [
    "\n",
    "df = df.drop(columns=['national_team','national_team_position','national_jersey_number','national_rating'])\n"
   ]
  },
  {
   "cell_type": "code",
   "execution_count": 8,
   "metadata": {},
   "outputs": [],
   "source": [
    "from sklearn.preprocessing import LabelEncoder\n",
    "\n",
    "encoder = LabelEncoder()\n",
    "\n",
    "df['positions_encoded'] = encoder.fit_transform(df['positions'])\n",
    "\n",
    "\n",
    "\n",
    "\n"
   ]
  },
  {
   "cell_type": "code",
   "execution_count": 9,
   "metadata": {},
   "outputs": [],
   "source": [
    "df = df.drop(columns=['positions'])"
   ]
  },
  {
   "cell_type": "code",
   "execution_count": 10,
   "metadata": {},
   "outputs": [
    {
     "name": "stdout",
     "output_type": "stream",
     "text": [
      "<class 'pandas.core.frame.DataFrame'>\n",
      "RangeIndex: 17954 entries, 0 to 17953\n",
      "Data columns (total 43 columns):\n",
      " #   Column                         Non-Null Count  Dtype  \n",
      "---  ------                         --------------  -----  \n",
      " 0   age                            17954 non-null  int64  \n",
      " 1   height_cm                      17954 non-null  float64\n",
      " 2   weight_kgs                     17954 non-null  float64\n",
      " 3   overall_rating                 17954 non-null  int64  \n",
      " 4   potential                      17954 non-null  int64  \n",
      " 5   value_euro                     17954 non-null  float64\n",
      " 6   wage_euro                      17954 non-null  float64\n",
      " 7   preferred_foot                 17954 non-null  int64  \n",
      " 8   international_reputation(1-5)  17954 non-null  int64  \n",
      " 9   weak_foot(1-5)                 17954 non-null  int64  \n",
      " 10  skill_moves(1-5)               17954 non-null  int64  \n",
      " 11  body_type                      17954 non-null  int64  \n",
      " 12  release_clause_euro            17954 non-null  float64\n",
      " 13  crossing                       17954 non-null  int64  \n",
      " 14  finishing                      17954 non-null  int64  \n",
      " 15  heading_accuracy               17954 non-null  int64  \n",
      " 16  short_passing                  17954 non-null  int64  \n",
      " 17  volleys                        17954 non-null  int64  \n",
      " 18  dribbling                      17954 non-null  int64  \n",
      " 19  curve                          17954 non-null  int64  \n",
      " 20  freekick_accuracy              17954 non-null  int64  \n",
      " 21  long_passing                   17954 non-null  int64  \n",
      " 22  ball_control                   17954 non-null  int64  \n",
      " 23  acceleration                   17954 non-null  int64  \n",
      " 24  sprint_speed                   17954 non-null  int64  \n",
      " 25  agility                        17954 non-null  int64  \n",
      " 26  reactions                      17954 non-null  int64  \n",
      " 27  balance                        17954 non-null  int64  \n",
      " 28  shot_power                     17954 non-null  int64  \n",
      " 29  jumping                        17954 non-null  int64  \n",
      " 30  stamina                        17954 non-null  int64  \n",
      " 31  strength                       17954 non-null  int64  \n",
      " 32  long_shots                     17954 non-null  int64  \n",
      " 33  aggression                     17954 non-null  int64  \n",
      " 34  interceptions                  17954 non-null  int64  \n",
      " 35  positioning                    17954 non-null  int64  \n",
      " 36  vision                         17954 non-null  int64  \n",
      " 37  penalties                      17954 non-null  int64  \n",
      " 38  composure                      17954 non-null  int64  \n",
      " 39  marking                        17954 non-null  int64  \n",
      " 40  standing_tackle                17954 non-null  int64  \n",
      " 41  sliding_tackle                 17954 non-null  int64  \n",
      " 42  positions_encoded              17954 non-null  int64  \n",
      "dtypes: float64(5), int64(38)\n",
      "memory usage: 5.9 MB\n"
     ]
    }
   ],
   "source": [
    "df.info()"
   ]
  },
  {
   "cell_type": "code",
   "execution_count": null,
   "metadata": {},
   "outputs": [],
   "source": []
  },
  {
   "cell_type": "markdown",
   "metadata": {},
   "source": []
  }
 ],
 "metadata": {
  "kernelspec": {
   "display_name": "Python 3",
   "language": "python",
   "name": "python3"
  },
  "language_info": {
   "codemirror_mode": {
    "name": "ipython",
    "version": 3
   },
   "file_extension": ".py",
   "mimetype": "text/x-python",
   "name": "python",
   "nbconvert_exporter": "python",
   "pygments_lexer": "ipython3",
   "version": "3.11.9"
  }
 },
 "nbformat": 4,
 "nbformat_minor": 2
}
